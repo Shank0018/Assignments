{
 "cells": [
  {
   "cell_type": "code",
   "execution_count": 1,
   "id": "195405f6",
   "metadata": {},
   "outputs": [
    {
     "name": "stdout",
     "output_type": "stream",
     "text": [
      "string\n",
      "string  ssttrriinngg\n"
     ]
    }
   ],
   "source": [
    "#Q.1 create a function that takes string as an input and returns each character repeated twice\n",
    "def doublestr(n):\n",
    "    l=' '\n",
    "    d=0\n",
    "    for i in n:\n",
    "        d=i*2\n",
    "        l=l+d\n",
    "    print(n,l)\n",
    "n=input()\n",
    "doublestr(n)"
   ]
  },
  {
   "cell_type": "code",
   "execution_count": 11,
   "id": "56bf3183",
   "metadata": {},
   "outputs": [
    {
     "name": "stdout",
     "output_type": "stream",
     "text": [
      "True\n",
      "False\n"
     ]
    }
   ],
   "source": [
    "#Q.2 craete a function that returns reverse of boolean value and returns not expected when another variable is inputted.\n",
    "def reverse(n):\n",
    "    if n=='True':\n",
    "        print('False')\n",
    "    elif n=='False':\n",
    "        print('True')\n",
    "    \n",
    "    else:\n",
    "        print('not expected')\n",
    "n=input()\n",
    "reverse(n)\n",
    "        "
   ]
  },
  {
   "cell_type": "code",
   "execution_count": 17,
   "id": "b61447d7",
   "metadata": {},
   "outputs": [
    {
     "name": "stdout",
     "output_type": "stream",
     "text": [
      "Enter no of times of folded paper21\n",
      "paper folded 21 times is 1048.576 mm\n"
     ]
    }
   ],
   "source": [
    "#Q.3 create a function that returns thickness of a paper after folding it n number of times.\n",
    "import math\n",
    "def thickness(n):\n",
    "    t=math.pow(2,(n-1))\n",
    "    print('paper folded',n,'times is',t/1000,'mm')\n",
    "n=int(input('Enter no of times of folded paper'))\n",
    "thickness(n)"
   ]
  },
  {
   "cell_type": "code",
   "execution_count": 23,
   "id": "c1ca2549",
   "metadata": {},
   "outputs": [
    {
     "name": "stdout",
     "output_type": "stream",
     "text": [
      "eQuINoX\n",
      "[1, 3, 4, 6]\n"
     ]
    }
   ],
   "source": [
    "#Q.4Create a function that takes a single string as argument and returns an ordered list containing the indices of all capital letters in the string.\n",
    "def indices(n):\n",
    "    l=[]\n",
    "    for i in range(len(n)):\n",
    "        if n[i].isupper():\n",
    "            l.append(i)\n",
    "        else:\n",
    "            pass\n",
    "    print(l)\n",
    "n=input()\n",
    "indices(n)"
   ]
  },
  {
   "cell_type": "code",
   "execution_count": 27,
   "id": "d0bed557",
   "metadata": {},
   "outputs": [
    {
     "name": "stdout",
     "output_type": "stream",
     "text": [
      "8\n",
      "[2, 4, 6, 8]\n"
     ]
    }
   ],
   "source": [
    "#Q.5 Create a function that takes a single string as argument and returns an ordered list containing the indices of all capital letters in the string.\n",
    "def findeven(n):\n",
    "    l=[]\n",
    "    for i in range(n+1):\n",
    "        if i==0:\n",
    "            pass\n",
    "        elif i%2==0:\n",
    "            l.append(i)\n",
    "        else:\n",
    "            pass\n",
    "    print(l)\n",
    "n=int(input())\n",
    "findeven(n)\n",
    "    \n",
    "            "
   ]
  },
  {
   "cell_type": "code",
   "execution_count": null,
   "id": "9ba0a6d1",
   "metadata": {},
   "outputs": [],
   "source": []
  }
 ],
 "metadata": {
  "kernelspec": {
   "display_name": "Python 3",
   "language": "python",
   "name": "python3"
  },
  "language_info": {
   "codemirror_mode": {
    "name": "ipython",
    "version": 3
   },
   "file_extension": ".py",
   "mimetype": "text/x-python",
   "name": "python",
   "nbconvert_exporter": "python",
   "pygments_lexer": "ipython3",
   "version": "3.8.8"
  }
 },
 "nbformat": 4,
 "nbformat_minor": 5
}
