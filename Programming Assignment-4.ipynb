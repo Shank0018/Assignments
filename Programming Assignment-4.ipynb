{
 "cells": [
  {
   "cell_type": "code",
   "execution_count": 5,
   "id": "156332bd",
   "metadata": {},
   "outputs": [
    {
     "name": "stdout",
     "output_type": "stream",
     "text": [
      "Enter any number:5\n",
      "120\n"
     ]
    }
   ],
   "source": [
    "#Q.1 Find Factorial\n",
    "f=1\n",
    "n=int(input('Enter any number:'))\n",
    "while(n>0):\n",
    "    f=f*n\n",
    "    n=n-1\n",
    "print(f)\n",
    "    \n"
   ]
  },
  {
   "cell_type": "code",
   "execution_count": 11,
   "id": "1328883c",
   "metadata": {},
   "outputs": [
    {
     "name": "stdout",
     "output_type": "stream",
     "text": [
      "enter any number11\n",
      "11 * 1 = 11\n",
      "11 * 2 = 22\n",
      "11 * 3 = 33\n",
      "11 * 4 = 44\n",
      "11 * 5 = 55\n",
      "11 * 6 = 66\n",
      "11 * 7 = 77\n",
      "11 * 8 = 88\n",
      "11 * 9 = 99\n",
      "11 * 10 = 110\n"
     ]
    }
   ],
   "source": [
    "#Q.2 multiplication table\n",
    "n=int(input('enter any number'))\n",
    "for i in range(1,11):\n",
    "    num=n*i\n",
    "    print(n,'*',i,'=',num)"
   ]
  },
  {
   "cell_type": "code",
   "execution_count": 4,
   "id": "f1f2da70",
   "metadata": {},
   "outputs": [
    {
     "name": "stdout",
     "output_type": "stream",
     "text": [
      "enter any number:11\n",
      "[1, 1, 2, 3, 5, 8, 13, 21, 34, 55, 89]\n"
     ]
    }
   ],
   "source": [
    " #Q.3 Print fibonacci sequence\n",
    "    n=int(input(\"enter any number:\"))\n",
    "    a=1\n",
    "    b=1\n",
    "    l=[]\n",
    "    for i in range(n):\n",
    "        l.append(a)\n",
    "        a,b=b,a+b\n",
    "    print(l) "
   ]
  },
  {
   "cell_type": "code",
   "execution_count": 8,
   "id": "47d8bd00",
   "metadata": {},
   "outputs": [
    {
     "name": "stdout",
     "output_type": "stream",
     "text": [
      "Enter any number153\n",
      "153 is a Armstrong Number\n"
     ]
    }
   ],
   "source": [
    "#Q.4 Check armstrong number\n",
    "n=input('enter any number:')\n",
    "sum=0\n",
    "for i in range(len(n)):\n",
    "    sum=sum+pow(int(n[i]),3)\n",
    "if sum==int(n):\n",
    "    print(n,'is a Armstrong Number')\n",
    "else:\n",
    "    print(n,'is not a Armstrong Number')\n",
    "    \n",
    "    \n",
    "    \n",
    "    "
   ]
  },
  {
   "cell_type": "code",
   "execution_count": null,
   "id": "e073bf0a",
   "metadata": {},
   "outputs": [
    {
     "name": "stdout",
     "output_type": "stream",
     "text": [
      "enter lower range: 0\n"
     ]
    }
   ],
   "source": [
    "# print armstrong number in an interval\n",
    "l=int(input(\"enter lower range: \"))\n",
    "u=int(input(\"enter upper range: \"))\n",
    "for i in range(l,u+1):\n",
    "    sum=0\n",
    "    temp = i\n",
    "    while temp > 0:\n",
    "        rem = temp % 10\n",
    "        sum=sum + rem ** 3\n",
    "        temp = temp//10\n",
    "        if i == sum:\n",
    "            print(i)\n",
    "        \n"
   ]
  },
  {
   "cell_type": "code",
   "execution_count": 1,
   "id": "8ffbd8e6",
   "metadata": {},
   "outputs": [
    {
     "name": "stdout",
     "output_type": "stream",
     "text": [
      "enter a no: 32\n",
      "528\n"
     ]
    }
   ],
   "source": [
    "#6 write a python program to print sum of natural numbers\n",
    "n=int(input(\"enter a no: \"))\n",
    "for i in range(0,n):\n",
    "    n=n+i\n",
    "print(n)"
   ]
  },
  {
   "cell_type": "code",
   "execution_count": null,
   "id": "92c3df6b",
   "metadata": {},
   "outputs": [],
   "source": []
  },
  {
   "cell_type": "code",
   "execution_count": null,
   "id": "2da4873d",
   "metadata": {},
   "outputs": [],
   "source": []
  }
 ],
 "metadata": {
  "kernelspec": {
   "display_name": "Python 3",
   "language": "python",
   "name": "python3"
  },
  "language_info": {
   "codemirror_mode": {
    "name": "ipython",
    "version": 3
   },
   "file_extension": ".py",
   "mimetype": "text/x-python",
   "name": "python",
   "nbconvert_exporter": "python",
   "pygments_lexer": "ipython3",
   "version": "3.8.8"
  }
 },
 "nbformat": 4,
 "nbformat_minor": 5
}
