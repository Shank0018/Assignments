{
 "cells": [
  {
   "cell_type": "code",
   "execution_count": 2,
   "id": "19aa123e",
   "metadata": {
    "scrolled": true
   },
   "outputs": [
    {
     "data": {
      "text/plain": [
       "[1, 2]"
      ]
     },
     "execution_count": 2,
     "metadata": {},
     "output_type": "execute_result"
    }
   ],
   "source": [
    "#Q.1 define a function which takes integer and string as input and filter out integer and return it in a list.\n",
    "def filter_int(n):\n",
    "    l=[]\n",
    "    for i in n:\n",
    "        if type(i)!=str:\n",
    "            l.append(i)\n",
    "    return(l)\n",
    "filter_int([1,2,'a','b'])"
   ]
  },
  {
   "cell_type": "code",
   "execution_count": 14,
   "id": "ec042489",
   "metadata": {},
   "outputs": [
    {
     "data": {
      "text/plain": [
       "[5, 5, 5, 5, 5]"
      ]
     },
     "execution_count": 14,
     "metadata": {},
     "output_type": "execute_result"
    }
   ],
   "source": [
    "#Q.2 define a function and add index of the number with itself\n",
    "def addindex(n):\n",
    "    l=[]\n",
    "    for i in n:\n",
    "        a=i+(n.index(i))\n",
    "        l.append(a)\n",
    "    return(l)\n",
    "addindex([5,4,3,2,1])"
   ]
  },
  {
   "cell_type": "code",
   "execution_count": 15,
   "id": "c3cd314b",
   "metadata": {},
   "outputs": [
    {
     "data": {
      "text/plain": [
       "12.57"
      ]
     },
     "execution_count": 15,
     "metadata": {},
     "output_type": "execute_result"
    }
   ],
   "source": [
    "#Q.3 define a function which takes height and radius as an arguments and returns the volume rounded of to the nearest hundredth.\n",
    "import math\n",
    "def findvol(r,h):\n",
    "    pi=math.pi\n",
    "    v=(1/3)*pi*r*r*h\n",
    "    return (round(v,2))\n",
    "findvol(2,3)\n"
   ]
  },
  {
   "cell_type": "code",
   "execution_count": 26,
   "id": "60f40607",
   "metadata": {},
   "outputs": [
    {
     "name": "stdout",
     "output_type": "stream",
     "text": [
      "6\n"
     ]
    },
    {
     "data": {
      "text/plain": [
       "21"
      ]
     },
     "execution_count": 26,
     "metadata": {},
     "output_type": "execute_result"
    }
   ],
   "source": [
    "# Q.4 define a function that gives number of dots with its corresponding triangle number of sequence\n",
    "def triangle(n):\n",
    "    a=0\n",
    "    for i in range(1,n+1):\n",
    "        b=i+a\n",
    "        a=b\n",
    "    return b\n",
    "n=int(input())\n",
    "triangle(n)\n",
    "\n",
    "        "
   ]
  },
  {
   "cell_type": "code",
   "execution_count": 28,
   "id": "b2847152",
   "metadata": {},
   "outputs": [
    {
     "name": "stdout",
     "output_type": "stream",
     "text": [
      "10\n"
     ]
    }
   ],
   "source": [
    "#Q.5 create funtion that takes a list of numbers betwwn 1 and 10(excluding one number) and returns missing number\n",
    "def missing_num(l):\n",
    "    for i in range(1,11):\n",
    "        if i not in l:\n",
    "            print(i)\n",
    "            \n",
    "missing_num([7,2,3,6,5,9,1,4,8])"
   ]
  },
  {
   "cell_type": "code",
   "execution_count": null,
   "id": "ead46d00",
   "metadata": {},
   "outputs": [],
   "source": []
  }
 ],
 "metadata": {
  "kernelspec": {
   "display_name": "Python 3",
   "language": "python",
   "name": "python3"
  },
  "language_info": {
   "codemirror_mode": {
    "name": "ipython",
    "version": 3
   },
   "file_extension": ".py",
   "mimetype": "text/x-python",
   "name": "python",
   "nbconvert_exporter": "python",
   "pygments_lexer": "ipython3",
   "version": "3.8.8"
  }
 },
 "nbformat": 4,
 "nbformat_minor": 5
}
